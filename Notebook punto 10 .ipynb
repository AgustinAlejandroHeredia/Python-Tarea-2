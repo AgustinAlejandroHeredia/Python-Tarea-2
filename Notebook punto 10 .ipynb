{
 "cells": [
  {
   "cell_type": "markdown",
   "id": "23a97467",
   "metadata": {},
   "source": [
    "# Tarea 2\n",
    "## Practica 2 Punto 10"
   ]
  },
  {
   "cell_type": "markdown",
   "id": "8f09aa47",
   "metadata": {},
   "source": [
    "###  1)   Generar una estructura con los nombres de los estudiantes y la suma de ambas notas.\n",
    "###  2)   Calcular el promedio de las notas totales e informar que alumnos obtuvieron menos que el promedio."
   ]
  },
  {
   "cell_type": "code",
   "execution_count": null,
   "id": "ab577e51",
   "metadata": {},
   "outputs": [],
   "source": [
    "from encodings import utf_8"
   ]
  },
  {
   "cell_type": "markdown",
   "id": "1a14117e",
   "metadata": {},
   "source": [
    "### Abro los archivos que voy a usar (usando UTF-8) y creo un diccionario con nombre de los alumnos con la suma de sus dos notas"
   ]
  },
  {
   "cell_type": "code",
   "execution_count": null,
   "id": "0f553e1b",
   "metadata": {},
   "outputs": [],
   "source": [
    "nombres = open(\"C:\\Desk\\Facultad\\Materias\\Python\\Practica 2\\_nombres_1.txt\", \"r\", encoding=\"utf_8\")\n",
    "eval1 = open(\"C:\\Desk\\Facultad\\Materias\\Python\\Practica 2\\eval1.txt\", \"r\", encoding=\"utf_8\")\n",
    "eval2 = open(\"C:\\Desk\\Facultad\\Materias\\Python\\Practica 2\\eval2.txt\", \"r\", encoding=\"utf_8\")\n",
    "total = {}\n"
   ]
  },
  {
   "cell_type": "markdown",
   "id": "ad769e62",
   "metadata": {},
   "source": [
    "### Asigno el contenido de los archivos a variables"
   ]
  },
  {
   "cell_type": "code",
   "execution_count": null,
   "id": "ddf10e80",
   "metadata": {},
   "outputs": [],
   "source": [
    "nom = (nombres.read()).split( )\n",
    "e1 = (eval1.read()).split(\",\") # Separo el contenido por las \",\" para que solo queden los numeros, los cuales pasare a entero para procesarlos en la suma\n",
    "e2 = (eval2.read()).split(\",\")"
   ]
  },
  {
   "cell_type": "markdown",
   "id": "129c0127",
   "metadata": {},
   "source": [
    "## PUNTO A: armar el diccionario con alumnos y notas totalizadas"
   ]
  },
  {
   "cell_type": "code",
   "execution_count": null,
   "id": "c2e64dd8",
   "metadata": {},
   "outputs": [],
   "source": [
    "pos = 0 # Variable que uso para recorrer las variables con los contenidos de los archivos con el split()\n",
    "for n in nom:\n",
    "    suma = int(e1[pos]) + int(e2[pos]) # Suma las notas de los examenes (convierte a entero el contenido)\n",
    "    total[n] = suma # Añade al diccionario el nuevo alumno\n",
    "    pos = pos +1 # Aumenta la poscion para moverse por las variables con las notas\n",
    "\n",
    "print(total)"
   ]
  },
  {
   "cell_type": "markdown",
   "id": "05b38577",
   "metadata": {},
   "source": [
    "## PUNTO B: sacar el promedio"
   ]
  },
  {
   "cell_type": "markdown",
   "id": "8a3343c3",
   "metadata": {},
   "source": [
    "### Itero por el diccionario sumando las notas en suma_total para dividirlas por cant y obtener la nota promedio"
   ]
  },
  {
   "cell_type": "code",
   "execution_count": null,
   "id": "d04ee04f",
   "metadata": {},
   "outputs": [],
   "source": [
    "suma_total = 0\n",
    "cant = 0\n",
    "for n in total:\n",
    "    x = total[n] ## x = contenido de la key que recibe n\n",
    "    suma_total = suma_total + x ## suma\n",
    "    cant = cant +1 ## cuenta cantidad de alumnos \n",
    "prom = suma_total/cant ## Saca promedio\n",
    "print(\"Nota promedio: \",prom)"
   ]
  },
  {
   "cell_type": "markdown",
   "id": "2d00986f",
   "metadata": {},
   "source": [
    "## PUNTO C: informar que alumnos sacaron menos nota que el promedio"
   ]
  },
  {
   "cell_type": "code",
   "execution_count": null,
   "id": "e30c0157",
   "metadata": {},
   "outputs": [],
   "source": [
    "for n in total:\n",
    "    if(total[n] < prom): ## Evaluo si la nota del alumno n es < que el promedio que calcule en el punto anterior\n",
    "        print(\"El alumno \",n,\" tiene menos nota final que el promedio.\") ## Imprimo"
   ]
  }
 ],
 "metadata": {
  "kernelspec": {
   "display_name": "Python 3",
   "language": "python",
   "name": "python3"
  },
  "language_info": {
   "codemirror_mode": {
    "name": "ipython",
    "version": 3
   },
   "file_extension": ".py",
   "mimetype": "text/x-python",
   "name": "python",
   "nbconvert_exporter": "python",
   "pygments_lexer": "ipython3",
   "version": "3.6.15"
  }
 },
 "nbformat": 4,
 "nbformat_minor": 5
}
